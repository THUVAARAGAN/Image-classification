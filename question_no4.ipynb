{
  "nbformat": 4,
  "nbformat_minor": 0,
  "metadata": {
    "colab": {
      "name": "question no4",
      "provenance": [],
      "authorship_tag": "ABX9TyNS4HG9CjsiHtsumkyCgHfO",
      "include_colab_link": true
    },
    "kernelspec": {
      "name": "python3",
      "display_name": "Python 3"
    },
    "language_info": {
      "name": "python"
    }
  },
  "cells": [
    {
      "cell_type": "markdown",
      "metadata": {
        "id": "view-in-github",
        "colab_type": "text"
      },
      "source": [
        "<a href=\"https://colab.research.google.com/github/THUVAARAGAN/ASSIGNMENT_04/blob/main/question_no4.ipynb\" target=\"_parent\"><img src=\"https://colab.research.google.com/assets/colab-badge.svg\" alt=\"Open In Colab\"/></a>"
      ]
    },
    {
      "cell_type": "code",
      "metadata": {
        "colab": {
          "base_uri": "https://localhost:8080/"
        },
        "id": "xIVCMnBhbxkN",
        "outputId": "970d6e16-1e76-415b-abfa-cf167c0eec48"
      },
      "source": [
        "import tensorflow as tf\n",
        "from tensorflow import keras\n",
        "import numpy as np\n",
        "import matplotlib.pyplot as plt\n",
        "\n",
        "\n",
        "\n",
        "\n",
        "print(tf.__version__)\n",
        "\n",
        "#mnist = keras.datasets.mnist\n",
        "(train_images, train_labels), (test_images, test_labels) = keras.datasets.cifar10.load_data()\n",
        "\n",
        "\n",
        "print('train_images.shape: ', train_images.shape)\n",
        "print('train_labels.shape: ', train_labels.shape)\n",
        "print('test_images.shape:', test_images.shape)\n",
        "print('test_labels.shape:', test_labels.shape)\n",
        "class_names = ['0', '1', '2', '3', '4', '5', '6', '7', '8', '9']\n",
        "train_labels = keras.utils.to_categorical(train_labels)\n",
        "test_labels = keras.utils.to_categorical(test_labels)\n",
        "train_images = train_images / 255.0\n",
        "test_images = test_images / 255.0\n",
        "\n",
        "model = keras.Sequential()\n",
        "model.add(keras.layers.Conv2D(32, (3, 3), activation='relu', kernel_initializer='he_uniform', padding='same', input_shape=(32, 32, 3)))\n",
        "model.add(keras.layers.MaxPooling2D((2, 2)))\n",
        "model.add(keras.layers.Conv2D(64, (3, 3), activation='relu', kernel_initializer='he_uniform', padding='same'))\n",
        "model.add(keras.layers.MaxPooling2D((2, 2)))\n",
        "model.add(keras.layers.Conv2D(64, (3, 3), activation='relu', kernel_initializer='he_uniform', padding='same'))\n",
        "model.add(keras.layers.MaxPooling2D((2, 2)))\n",
        "model.add(keras.layers.Flatten())\n",
        "model.add(keras.layers.Dense(64, activation='relu', kernel_initializer='he_uniform'))\n",
        "model.add(keras.layers.Dense(10, activation='softmax'))\n",
        "\n",
        "opt = keras.optimizers.SGD(lr=0.0008, momentum=0.6)\n",
        "model.compile(optimizer=opt, loss='categorical_crossentropy', metrics=['accuracy'] )\n",
        "\n",
        "# fit model\n",
        "print(model.summary())\n",
        "history = model.fit(train_images, train_labels, epochs=50, batch_size=50, verbose=2)\n",
        "\n",
        "\n",
        "test_loss, test_acc = model.evaluate(test_images,  test_labels, verbose=2)\n",
        "print('\\nTest accuracy:', test_acc)\n",
        "print('\\nTest loss:', test_loss)\n",
        "\n",
        "\n",
        "\n",
        "\n",
        "#till best 0.011"
      ],
      "execution_count": 1,
      "outputs": [
        {
          "output_type": "stream",
          "text": [
            "2.4.1\n",
            "train_images.shape:  (50000, 32, 32, 3)\n",
            "train_labels.shape:  (50000, 1)\n",
            "test_images.shape: (10000, 32, 32, 3)\n",
            "test_labels.shape: (10000, 1)\n",
            "Model: \"sequential\"\n",
            "_________________________________________________________________\n",
            "Layer (type)                 Output Shape              Param #   \n",
            "=================================================================\n",
            "conv2d (Conv2D)              (None, 32, 32, 32)        896       \n",
            "_________________________________________________________________\n",
            "max_pooling2d (MaxPooling2D) (None, 16, 16, 32)        0         \n",
            "_________________________________________________________________\n",
            "conv2d_1 (Conv2D)            (None, 16, 16, 64)        18496     \n",
            "_________________________________________________________________\n",
            "max_pooling2d_1 (MaxPooling2 (None, 8, 8, 64)          0         \n",
            "_________________________________________________________________\n",
            "conv2d_2 (Conv2D)            (None, 8, 8, 64)          36928     \n",
            "_________________________________________________________________\n",
            "max_pooling2d_2 (MaxPooling2 (None, 4, 4, 64)          0         \n",
            "_________________________________________________________________\n",
            "flatten (Flatten)            (None, 1024)              0         \n",
            "_________________________________________________________________\n",
            "dense (Dense)                (None, 64)                65600     \n",
            "_________________________________________________________________\n",
            "dense_1 (Dense)              (None, 10)                650       \n",
            "=================================================================\n",
            "Total params: 122,570\n",
            "Trainable params: 122,570\n",
            "Non-trainable params: 0\n",
            "_________________________________________________________________\n",
            "None\n",
            "Epoch 1/50\n",
            "1000/1000 - 88s - loss: 2.0452 - accuracy: 0.2595\n",
            "Epoch 2/50\n",
            "1000/1000 - 88s - loss: 1.8055 - accuracy: 0.3641\n",
            "Epoch 3/50\n",
            "1000/1000 - 88s - loss: 1.6699 - accuracy: 0.4110\n",
            "Epoch 4/50\n",
            "1000/1000 - 88s - loss: 1.5783 - accuracy: 0.4402\n",
            "Epoch 5/50\n",
            "1000/1000 - 89s - loss: 1.5115 - accuracy: 0.4621\n",
            "Epoch 6/50\n",
            "1000/1000 - 88s - loss: 1.4564 - accuracy: 0.4812\n",
            "Epoch 7/50\n",
            "1000/1000 - 88s - loss: 1.4157 - accuracy: 0.4947\n",
            "Epoch 8/50\n",
            "1000/1000 - 88s - loss: 1.3748 - accuracy: 0.5084\n",
            "Epoch 9/50\n",
            "1000/1000 - 88s - loss: 1.3400 - accuracy: 0.5254\n",
            "Epoch 10/50\n",
            "1000/1000 - 90s - loss: 1.3107 - accuracy: 0.5333\n",
            "Epoch 11/50\n",
            "1000/1000 - 88s - loss: 1.2826 - accuracy: 0.5449\n",
            "Epoch 12/50\n",
            "1000/1000 - 88s - loss: 1.2577 - accuracy: 0.5555\n",
            "Epoch 13/50\n",
            "1000/1000 - 88s - loss: 1.2328 - accuracy: 0.5629\n",
            "Epoch 14/50\n",
            "1000/1000 - 88s - loss: 1.2103 - accuracy: 0.5721\n",
            "Epoch 15/50\n",
            "1000/1000 - 88s - loss: 1.1905 - accuracy: 0.5799\n",
            "Epoch 16/50\n",
            "1000/1000 - 88s - loss: 1.1682 - accuracy: 0.5866\n",
            "Epoch 17/50\n",
            "1000/1000 - 88s - loss: 1.1503 - accuracy: 0.5960\n",
            "Epoch 18/50\n",
            "1000/1000 - 88s - loss: 1.1317 - accuracy: 0.6027\n",
            "Epoch 19/50\n",
            "1000/1000 - 88s - loss: 1.1151 - accuracy: 0.6069\n",
            "Epoch 20/50\n",
            "1000/1000 - 88s - loss: 1.0995 - accuracy: 0.6143\n",
            "Epoch 21/50\n",
            "1000/1000 - 88s - loss: 1.0821 - accuracy: 0.6209\n",
            "Epoch 22/50\n",
            "1000/1000 - 88s - loss: 1.0676 - accuracy: 0.6273\n",
            "Epoch 23/50\n",
            "1000/1000 - 89s - loss: 1.0523 - accuracy: 0.6323\n",
            "Epoch 24/50\n",
            "1000/1000 - 89s - loss: 1.0388 - accuracy: 0.6375\n",
            "Epoch 25/50\n",
            "1000/1000 - 89s - loss: 1.0249 - accuracy: 0.6416\n",
            "Epoch 26/50\n",
            "1000/1000 - 89s - loss: 1.0115 - accuracy: 0.6476\n",
            "Epoch 27/50\n",
            "1000/1000 - 88s - loss: 0.9995 - accuracy: 0.6520\n",
            "Epoch 28/50\n",
            "1000/1000 - 88s - loss: 0.9869 - accuracy: 0.6554\n",
            "Epoch 29/50\n",
            "1000/1000 - 91s - loss: 0.9741 - accuracy: 0.6599\n",
            "Epoch 30/50\n",
            "1000/1000 - 88s - loss: 0.9624 - accuracy: 0.6651\n",
            "Epoch 31/50\n",
            "1000/1000 - 89s - loss: 0.9529 - accuracy: 0.6679\n",
            "Epoch 32/50\n",
            "1000/1000 - 90s - loss: 0.9423 - accuracy: 0.6707\n",
            "Epoch 33/50\n",
            "1000/1000 - 89s - loss: 0.9308 - accuracy: 0.6765\n",
            "Epoch 34/50\n",
            "1000/1000 - 89s - loss: 0.9225 - accuracy: 0.6789\n",
            "Epoch 35/50\n",
            "1000/1000 - 89s - loss: 0.9128 - accuracy: 0.6825\n",
            "Epoch 36/50\n",
            "1000/1000 - 89s - loss: 0.9042 - accuracy: 0.6865\n",
            "Epoch 37/50\n",
            "1000/1000 - 89s - loss: 0.8959 - accuracy: 0.6882\n",
            "Epoch 38/50\n",
            "1000/1000 - 89s - loss: 0.8871 - accuracy: 0.6921\n",
            "Epoch 39/50\n",
            "1000/1000 - 89s - loss: 0.8805 - accuracy: 0.6945\n",
            "Epoch 40/50\n",
            "1000/1000 - 89s - loss: 0.8704 - accuracy: 0.6990\n",
            "Epoch 41/50\n",
            "1000/1000 - 89s - loss: 0.8632 - accuracy: 0.7005\n",
            "Epoch 42/50\n",
            "1000/1000 - 89s - loss: 0.8550 - accuracy: 0.7031\n",
            "Epoch 43/50\n",
            "1000/1000 - 91s - loss: 0.8475 - accuracy: 0.7060\n",
            "Epoch 44/50\n",
            "1000/1000 - 89s - loss: 0.8417 - accuracy: 0.7082\n",
            "Epoch 45/50\n",
            "1000/1000 - 89s - loss: 0.8331 - accuracy: 0.7111\n",
            "Epoch 46/50\n",
            "1000/1000 - 89s - loss: 0.8262 - accuracy: 0.7151\n",
            "Epoch 47/50\n",
            "1000/1000 - 92s - loss: 0.8199 - accuracy: 0.7159\n",
            "Epoch 48/50\n",
            "1000/1000 - 90s - loss: 0.8123 - accuracy: 0.7187\n",
            "Epoch 49/50\n",
            "1000/1000 - 90s - loss: 0.8058 - accuracy: 0.7209\n",
            "Epoch 50/50\n",
            "1000/1000 - 89s - loss: 0.7982 - accuracy: 0.7254\n",
            "313/313 - 5s - loss: 0.9476 - accuracy: 0.6728\n",
            "\n",
            "Test accuracy: 0.6728000044822693\n",
            "\n",
            "Test loss: 0.9476401209831238\n"
          ],
          "name": "stdout"
        }
      ]
    },
    {
      "cell_type": "code",
      "metadata": {
        "colab": {
          "base_uri": "https://localhost:8080/",
          "height": 298
        },
        "id": "p8ZjIvfHn4Zg",
        "outputId": "126466a2-999e-4886-e716-cc53fee1c96c"
      },
      "source": [
        "plt.plot(history.history['accuracy'],label ='accuracy')\n",
        "plt.title('Train Accuracy')\n",
        "plt.show"
      ],
      "execution_count": 2,
      "outputs": [
        {
          "output_type": "execute_result",
          "data": {
            "text/plain": [
              "<function matplotlib.pyplot.show>"
            ]
          },
          "metadata": {
            "tags": []
          },
          "execution_count": 2
        },
        {
          "output_type": "display_data",
          "data": {
            "image/png": "[encoded data removed]",
            "text/plain": [
              "<Figure size 432x288 with 1 Axes>"
            ]
          },
          "metadata": {
            "tags": [],
            "needs_background": "light"
          }
        }
      ]
    }
  ]
}